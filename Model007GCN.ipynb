{
  "nbformat": 4,
  "nbformat_minor": 0,
  "metadata": {
    "colab": {
      "provenance": [],
      "authorship_tag": "ABX9TyPec1TFs1AUk2wcJcIdZ6rD",
      "include_colab_link": true
    },
    "kernelspec": {
      "name": "python3",
      "display_name": "Python 3"
    },
    "language_info": {
      "name": "python"
    }
  },
  "cells": [
    {
      "cell_type": "markdown",
      "metadata": {
        "id": "view-in-github",
        "colab_type": "text"
      },
      "source": [
        "<a href=\"https://colab.research.google.com/github/IANSEZI/machinelearning/blob/main/Model007GCN.ipynb\" target=\"_parent\"><img src=\"https://colab.research.google.com/assets/colab-badge.svg\" alt=\"Open In Colab\"/></a>"
      ]
    },
    {
      "cell_type": "code",
      "source": [],
      "metadata": {
        "id": "OXPhWPrTR_xB"
      },
      "execution_count": null,
      "outputs": []
    },
    {
      "cell_type": "code",
      "source": [
        "!pip install tensorflow\n",
        "!pip install scikit-learn\n",
        "!pip install numpy"
      ],
      "metadata": {
        "colab": {
          "base_uri": "https://localhost:8080/"
        },
        "id": "DpPVIKHV_ShV",
        "outputId": "ed8fda57-287c-4667-ef9f-f6d13c6c6a32"
      },
      "execution_count": 1,
      "outputs": [
        {
          "output_type": "stream",
          "name": "stdout",
          "text": [
            "Requirement already satisfied: tensorflow in /usr/local/lib/python3.10/dist-packages (2.15.0)\n",
            "Requirement already satisfied: absl-py>=1.0.0 in /usr/local/lib/python3.10/dist-packages (from tensorflow) (1.4.0)\n",
            "Requirement already satisfied: astunparse>=1.6.0 in /usr/local/lib/python3.10/dist-packages (from tensorflow) (1.6.3)\n",
            "Requirement already satisfied: flatbuffers>=23.5.26 in /usr/local/lib/python3.10/dist-packages (from tensorflow) (24.3.25)\n",
            "Requirement already satisfied: gast!=0.5.0,!=0.5.1,!=0.5.2,>=0.2.1 in /usr/local/lib/python3.10/dist-packages (from tensorflow) (0.5.4)\n",
            "Requirement already satisfied: google-pasta>=0.1.1 in /usr/local/lib/python3.10/dist-packages (from tensorflow) (0.2.0)\n",
            "Requirement already satisfied: h5py>=2.9.0 in /usr/local/lib/python3.10/dist-packages (from tensorflow) (3.9.0)\n",
            "Requirement already satisfied: libclang>=13.0.0 in /usr/local/lib/python3.10/dist-packages (from tensorflow) (18.1.1)\n",
            "Requirement already satisfied: ml-dtypes~=0.2.0 in /usr/local/lib/python3.10/dist-packages (from tensorflow) (0.2.0)\n",
            "Requirement already satisfied: numpy<2.0.0,>=1.23.5 in /usr/local/lib/python3.10/dist-packages (from tensorflow) (1.25.2)\n",
            "Requirement already satisfied: opt-einsum>=2.3.2 in /usr/local/lib/python3.10/dist-packages (from tensorflow) (3.3.0)\n",
            "Requirement already satisfied: packaging in /usr/local/lib/python3.10/dist-packages (from tensorflow) (24.0)\n",
            "Requirement already satisfied: protobuf!=4.21.0,!=4.21.1,!=4.21.2,!=4.21.3,!=4.21.4,!=4.21.5,<5.0.0dev,>=3.20.3 in /usr/local/lib/python3.10/dist-packages (from tensorflow) (3.20.3)\n",
            "Requirement already satisfied: setuptools in /usr/local/lib/python3.10/dist-packages (from tensorflow) (67.7.2)\n",
            "Requirement already satisfied: six>=1.12.0 in /usr/local/lib/python3.10/dist-packages (from tensorflow) (1.16.0)\n",
            "Requirement already satisfied: termcolor>=1.1.0 in /usr/local/lib/python3.10/dist-packages (from tensorflow) (2.4.0)\n",
            "Requirement already satisfied: typing-extensions>=3.6.6 in /usr/local/lib/python3.10/dist-packages (from tensorflow) (4.11.0)\n",
            "Requirement already satisfied: wrapt<1.15,>=1.11.0 in /usr/local/lib/python3.10/dist-packages (from tensorflow) (1.14.1)\n",
            "Requirement already satisfied: tensorflow-io-gcs-filesystem>=0.23.1 in /usr/local/lib/python3.10/dist-packages (from tensorflow) (0.36.0)\n",
            "Requirement already satisfied: grpcio<2.0,>=1.24.3 in /usr/local/lib/python3.10/dist-packages (from tensorflow) (1.62.1)\n",
            "Requirement already satisfied: tensorboard<2.16,>=2.15 in /usr/local/lib/python3.10/dist-packages (from tensorflow) (2.15.2)\n",
            "Requirement already satisfied: tensorflow-estimator<2.16,>=2.15.0 in /usr/local/lib/python3.10/dist-packages (from tensorflow) (2.15.0)\n",
            "Requirement already satisfied: keras<2.16,>=2.15.0 in /usr/local/lib/python3.10/dist-packages (from tensorflow) (2.15.0)\n",
            "Requirement already satisfied: wheel<1.0,>=0.23.0 in /usr/local/lib/python3.10/dist-packages (from astunparse>=1.6.0->tensorflow) (0.43.0)\n",
            "Requirement already satisfied: google-auth<3,>=1.6.3 in /usr/local/lib/python3.10/dist-packages (from tensorboard<2.16,>=2.15->tensorflow) (2.27.0)\n",
            "Requirement already satisfied: google-auth-oauthlib<2,>=0.5 in /usr/local/lib/python3.10/dist-packages (from tensorboard<2.16,>=2.15->tensorflow) (1.2.0)\n",
            "Requirement already satisfied: markdown>=2.6.8 in /usr/local/lib/python3.10/dist-packages (from tensorboard<2.16,>=2.15->tensorflow) (3.6)\n",
            "Requirement already satisfied: requests<3,>=2.21.0 in /usr/local/lib/python3.10/dist-packages (from tensorboard<2.16,>=2.15->tensorflow) (2.31.0)\n",
            "Requirement already satisfied: tensorboard-data-server<0.8.0,>=0.7.0 in /usr/local/lib/python3.10/dist-packages (from tensorboard<2.16,>=2.15->tensorflow) (0.7.2)\n",
            "Requirement already satisfied: werkzeug>=1.0.1 in /usr/local/lib/python3.10/dist-packages (from tensorboard<2.16,>=2.15->tensorflow) (3.0.2)\n",
            "Requirement already satisfied: cachetools<6.0,>=2.0.0 in /usr/local/lib/python3.10/dist-packages (from google-auth<3,>=1.6.3->tensorboard<2.16,>=2.15->tensorflow) (5.3.3)\n",
            "Requirement already satisfied: pyasn1-modules>=0.2.1 in /usr/local/lib/python3.10/dist-packages (from google-auth<3,>=1.6.3->tensorboard<2.16,>=2.15->tensorflow) (0.4.0)\n",
            "Requirement already satisfied: rsa<5,>=3.1.4 in /usr/local/lib/python3.10/dist-packages (from google-auth<3,>=1.6.3->tensorboard<2.16,>=2.15->tensorflow) (4.9)\n",
            "Requirement already satisfied: requests-oauthlib>=0.7.0 in /usr/local/lib/python3.10/dist-packages (from google-auth-oauthlib<2,>=0.5->tensorboard<2.16,>=2.15->tensorflow) (1.3.1)\n",
            "Requirement already satisfied: charset-normalizer<4,>=2 in /usr/local/lib/python3.10/dist-packages (from requests<3,>=2.21.0->tensorboard<2.16,>=2.15->tensorflow) (3.3.2)\n",
            "Requirement already satisfied: idna<4,>=2.5 in /usr/local/lib/python3.10/dist-packages (from requests<3,>=2.21.0->tensorboard<2.16,>=2.15->tensorflow) (3.7)\n",
            "Requirement already satisfied: urllib3<3,>=1.21.1 in /usr/local/lib/python3.10/dist-packages (from requests<3,>=2.21.0->tensorboard<2.16,>=2.15->tensorflow) (2.0.7)\n",
            "Requirement already satisfied: certifi>=2017.4.17 in /usr/local/lib/python3.10/dist-packages (from requests<3,>=2.21.0->tensorboard<2.16,>=2.15->tensorflow) (2024.2.2)\n",
            "Requirement already satisfied: MarkupSafe>=2.1.1 in /usr/local/lib/python3.10/dist-packages (from werkzeug>=1.0.1->tensorboard<2.16,>=2.15->tensorflow) (2.1.5)\n",
            "Requirement already satisfied: pyasn1<0.7.0,>=0.4.6 in /usr/local/lib/python3.10/dist-packages (from pyasn1-modules>=0.2.1->google-auth<3,>=1.6.3->tensorboard<2.16,>=2.15->tensorflow) (0.6.0)\n",
            "Requirement already satisfied: oauthlib>=3.0.0 in /usr/local/lib/python3.10/dist-packages (from requests-oauthlib>=0.7.0->google-auth-oauthlib<2,>=0.5->tensorboard<2.16,>=2.15->tensorflow) (3.2.2)\n",
            "Requirement already satisfied: scikit-learn in /usr/local/lib/python3.10/dist-packages (1.2.2)\n",
            "Requirement already satisfied: numpy>=1.17.3 in /usr/local/lib/python3.10/dist-packages (from scikit-learn) (1.25.2)\n",
            "Requirement already satisfied: scipy>=1.3.2 in /usr/local/lib/python3.10/dist-packages (from scikit-learn) (1.11.4)\n",
            "Requirement already satisfied: joblib>=1.1.1 in /usr/local/lib/python3.10/dist-packages (from scikit-learn) (1.4.0)\n",
            "Requirement already satisfied: threadpoolctl>=2.0.0 in /usr/local/lib/python3.10/dist-packages (from scikit-learn) (3.4.0)\n",
            "Requirement already satisfied: numpy in /usr/local/lib/python3.10/dist-packages (1.25.2)\n"
          ]
        }
      ]
    },
    {
      "cell_type": "code",
      "execution_count": 2,
      "metadata": {
        "colab": {
          "base_uri": "https://localhost:8080/"
        },
        "id": "KzN0XMLlHkBH",
        "outputId": "20bea88d-97ab-40e3-f457-446878589010"
      },
      "outputs": [
        {
          "output_type": "stream",
          "name": "stdout",
          "text": [
            "Mounted at /content/drive\n"
          ]
        }
      ],
      "source": [
        "import tensorflow as tf\n",
        "import cv2\n",
        "import numpy as np\n",
        "from google.colab import drive\n",
        "import os\n",
        "\n",
        "drive.mount('/content/drive')\n"
      ]
    },
    {
      "cell_type": "code",
      "source": [
        "import os\n",
        "import cv2\n",
        "import numpy as np\n",
        "from sklearn.model_selection import train_test_split\n",
        "from sklearn.utils import shuffle\n",
        "\n",
        "# Function to load and preprocess images for a specific split (training/testing)\n",
        "def load_images_and_labels(split_folder, image_size):\n",
        "    images = []\n",
        "    labels = []\n",
        "\n",
        "    # Iterate over each class folder\n",
        "    for class_name in os.listdir(split_folder):\n",
        "        class_folder = os.path.join(split_folder, class_name)\n",
        "        if os.path.isdir(class_folder):\n",
        "            # Iterate over images in the class folder\n",
        "            for image_name in os.listdir(class_folder):\n",
        "                image_path = os.path.join(class_folder, image_name)\n",
        "                # Load and preprocess image\n",
        "                image = cv2.imread(image_path, cv2.IMREAD_GRAYSCALE)  # Load as grayscale\n",
        "                image = cv2.resize(image, (image_size, image_size))  # Resize image\n",
        "                # Append image and label\n",
        "                images.append(image)\n",
        "                labels.append(class_name)\n",
        "\n",
        "    # Convert lists to NumPy arrays\n",
        "    images = np.array(images)\n",
        "    labels = np.array(labels)\n",
        "\n",
        "    return images, labels\n",
        "\n",
        "# Set image size\n",
        "image_size = 48  # Adjust as needed\n",
        "\n",
        "# Load training images and labels\n",
        "training_folder = '/content/drive/My Drive/faces/train'  # Adjust the path to your training folder\n",
        "X_train, y_train = load_images_and_labels(training_folder, image_size)\n",
        "\n",
        "# Load testing images and labels\n",
        "testing_folder = '/content/drive/My Drive/faces/test'  # Adjust the path to your testing folder\n",
        "X_test, y_test = load_images_and_labels(testing_folder, image_size)\n",
        "\n",
        "# Shuffle the training data\n",
        "X_train, y_train = shuffle(X_train, y_train, random_state=42)\n",
        "\n",
        "# Display some information about the dataset\n",
        "print(\"Number of training images:\", len(X_train))\n",
        "print(\"Number of testing images:\", len(X_test))\n",
        "print(\"Image shape:\", X_train[0].shape)\n",
        "print(\"Classes:\", np.unique(y_train))\n"
      ],
      "metadata": {
        "colab": {
          "base_uri": "https://localhost:8080/"
        },
        "id": "CG2a7BP1bQbt",
        "outputId": "41aec30d-9c00-41c7-e4de-d94039f79fe4"
      },
      "execution_count": 3,
      "outputs": [
        {
          "output_type": "stream",
          "name": "stdout",
          "text": [
            "Number of training images: 6530\n",
            "Number of testing images: 1423\n",
            "Image shape: (48, 48)\n",
            "Classes: ['Angry' 'Disgust' 'Fear' 'Happy' 'Neutral' 'Sad' 'Surprise']\n"
          ]
        }
      ]
    },
    {
      "cell_type": "code",
      "source": [
        "from sklearn.preprocessing import LabelEncoder\n",
        "from tensorflow.keras.utils import to_categorical\n",
        "\n",
        "# Encode class labels\n",
        "label_encoder = LabelEncoder()\n",
        "y_train_encoded = label_encoder.fit_transform(y_train)\n",
        "y_test_encoded = label_encoder.transform(y_test)\n",
        "\n",
        "# Convert encoded labels to one-hot encoding\n",
        "num_classes = len(np.unique(y_train))\n",
        "y_train_onehot = to_categorical(y_train_encoded, num_classes=num_classes)\n",
        "y_test_onehot = to_categorical(y_test_encoded, num_classes=num_classes)\n",
        "\n",
        "# Normalize pixel values of images to range [0, 1]\n",
        "X_train_normalized = X_train.astype('float32') / 255.0\n",
        "X_test_normalized = X_test.astype('float32') / 255.0\n",
        "\n",
        "# Display the number of classes\n",
        "print(\"Number of classes:\", num_classes)"
      ],
      "metadata": {
        "colab": {
          "base_uri": "https://localhost:8080/"
        },
        "id": "uG3RLmN-frMQ",
        "outputId": "e66da33a-c7ed-40f6-e869-751a4f811b2c"
      },
      "execution_count": 5,
      "outputs": [
        {
          "output_type": "stream",
          "name": "stdout",
          "text": [
            "Number of classes: 7\n"
          ]
        }
      ]
    },
    {
      "cell_type": "code",
      "source": [
        "from tensorflow.keras import layers, models\n",
        "\n",
        "# Define the GCN model\n",
        "def create_gcn_model(input_shape, num_classes):\n",
        "    model = models.Sequential()\n",
        "\n",
        "    # Graph convolutional layers\n",
        "    model.add(layers.Conv2D(32, (3, 3), activation='relu', input_shape=input_shape))\n",
        "    model.add(layers.MaxPooling2D((2, 2)))\n",
        "    model.add(layers.Conv2D(64, (3, 3), activation='relu'))\n",
        "    model.add(layers.MaxPooling2D((2, 2)))\n",
        "    model.add(layers.Conv2D(128, (3, 3), activation='relu'))\n",
        "    model.add(layers.MaxPooling2D((2, 2)))\n",
        "    model.add(layers.Flatten())\n",
        "\n",
        "    # Fully connected layers\n",
        "    model.add(layers.Dense(128, activation='relu'))\n",
        "    model.add(layers.Dropout(0.5))\n",
        "    model.add(layers.Dense(num_classes, activation='softmax'))\n",
        "\n",
        "    return model\n",
        "\n",
        "# Define input shape\n",
        "input_shape = (X_train_normalized.shape[1], X_train_normalized.shape[2], 1)\n",
        "\n",
        "# Create the GCN model\n",
        "gcn_model = create_gcn_model(input_shape, num_classes)\n",
        "\n",
        "# Compile the model\n",
        "gcn_model.compile(optimizer='adam',\n",
        "                  loss='categorical_crossentropy',\n",
        "                  metrics=['accuracy'])\n",
        "\n",
        "# Display model summary\n",
        "gcn_model.summary()\n"
      ],
      "metadata": {
        "colab": {
          "base_uri": "https://localhost:8080/"
        },
        "id": "c6yp5rhYb3NI",
        "outputId": "f6c1193d-106b-4e58-958a-e2f82d73efdc"
      },
      "execution_count": 6,
      "outputs": [
        {
          "output_type": "stream",
          "name": "stdout",
          "text": [
            "Model: \"sequential\"\n",
            "_________________________________________________________________\n",
            " Layer (type)                Output Shape              Param #   \n",
            "=================================================================\n",
            " conv2d (Conv2D)             (None, 46, 46, 32)        320       \n",
            "                                                                 \n",
            " max_pooling2d (MaxPooling2  (None, 23, 23, 32)        0         \n",
            " D)                                                              \n",
            "                                                                 \n",
            " conv2d_1 (Conv2D)           (None, 21, 21, 64)        18496     \n",
            "                                                                 \n",
            " max_pooling2d_1 (MaxPoolin  (None, 10, 10, 64)        0         \n",
            " g2D)                                                            \n",
            "                                                                 \n",
            " conv2d_2 (Conv2D)           (None, 8, 8, 128)         73856     \n",
            "                                                                 \n",
            " max_pooling2d_2 (MaxPoolin  (None, 4, 4, 128)         0         \n",
            " g2D)                                                            \n",
            "                                                                 \n",
            " flatten (Flatten)           (None, 2048)              0         \n",
            "                                                                 \n",
            " dense (Dense)               (None, 128)               262272    \n",
            "                                                                 \n",
            " dropout (Dropout)           (None, 128)               0         \n",
            "                                                                 \n",
            " dense_1 (Dense)             (None, 7)                 903       \n",
            "                                                                 \n",
            "=================================================================\n",
            "Total params: 355847 (1.36 MB)\n",
            "Trainable params: 355847 (1.36 MB)\n",
            "Non-trainable params: 0 (0.00 Byte)\n",
            "_________________________________________________________________\n"
          ]
        }
      ]
    },
    {
      "cell_type": "code",
      "source": [
        "# Train the model\n",
        "batch_size = 32\n",
        "epochs = 20\n",
        "\n",
        "history = gcn_model.fit(X_train_normalized, y_train_onehot,\n",
        "                        batch_size=batch_size,\n",
        "                        epochs=epochs,\n",
        "                        validation_data=(X_test_normalized, y_test_onehot))\n",
        "\n",
        "# Evaluate the model on the testing data\n",
        "loss, accuracy = gcn_model.evaluate(X_test_normalized, y_test_onehot)\n",
        "print(\"Test Loss:\", loss)\n",
        "print(\"Test Accuracy:\", accuracy)\n"
      ],
      "metadata": {
        "colab": {
          "base_uri": "https://localhost:8080/"
        },
        "id": "6vyDQigVdKG_",
        "outputId": "a4732a53-d508-4736-bae2-fe3be5c64131"
      },
      "execution_count": 7,
      "outputs": [
        {
          "output_type": "stream",
          "name": "stdout",
          "text": [
            "Epoch 1/20\n",
            "205/205 [==============================] - 25s 113ms/step - loss: 1.9237 - accuracy: 0.1637 - val_loss: 1.8922 - val_accuracy: 0.2284\n",
            "Epoch 2/20\n",
            "205/205 [==============================] - 24s 118ms/step - loss: 1.8544 - accuracy: 0.2441 - val_loss: 1.8029 - val_accuracy: 0.2755\n",
            "Epoch 3/20\n",
            "205/205 [==============================] - 22s 108ms/step - loss: 1.7726 - accuracy: 0.2772 - val_loss: 1.7354 - val_accuracy: 0.3071\n",
            "Epoch 4/20\n",
            "205/205 [==============================] - 24s 117ms/step - loss: 1.6969 - accuracy: 0.3230 - val_loss: 1.6789 - val_accuracy: 0.3373\n",
            "Epoch 5/20\n",
            "205/205 [==============================] - 22s 109ms/step - loss: 1.6283 - accuracy: 0.3703 - val_loss: 1.5717 - val_accuracy: 0.3879\n",
            "Epoch 6/20\n",
            "205/205 [==============================] - 24s 115ms/step - loss: 1.5622 - accuracy: 0.3965 - val_loss: 1.5219 - val_accuracy: 0.4132\n",
            "Epoch 7/20\n",
            "205/205 [==============================] - 24s 119ms/step - loss: 1.4723 - accuracy: 0.4407 - val_loss: 1.4822 - val_accuracy: 0.4336\n",
            "Epoch 8/20\n",
            "205/205 [==============================] - 22s 108ms/step - loss: 1.4167 - accuracy: 0.4562 - val_loss: 1.4505 - val_accuracy: 0.4364\n",
            "Epoch 9/20\n",
            "205/205 [==============================] - 24s 117ms/step - loss: 1.3575 - accuracy: 0.4818 - val_loss: 1.4633 - val_accuracy: 0.4287\n",
            "Epoch 10/20\n",
            "205/205 [==============================] - 22s 108ms/step - loss: 1.2967 - accuracy: 0.5118 - val_loss: 1.3883 - val_accuracy: 0.4708\n",
            "Epoch 11/20\n",
            "205/205 [==============================] - 24s 117ms/step - loss: 1.2267 - accuracy: 0.5348 - val_loss: 1.3780 - val_accuracy: 0.4694\n",
            "Epoch 12/20\n",
            "205/205 [==============================] - 23s 115ms/step - loss: 1.1548 - accuracy: 0.5643 - val_loss: 1.4059 - val_accuracy: 0.4729\n",
            "Epoch 13/20\n",
            "205/205 [==============================] - 25s 124ms/step - loss: 1.1080 - accuracy: 0.5812 - val_loss: 1.4288 - val_accuracy: 0.4828\n",
            "Epoch 14/20\n",
            "205/205 [==============================] - 24s 118ms/step - loss: 1.0495 - accuracy: 0.6040 - val_loss: 1.4041 - val_accuracy: 0.4722\n",
            "Epoch 15/20\n",
            "205/205 [==============================] - 23s 112ms/step - loss: 0.9711 - accuracy: 0.6309 - val_loss: 1.4299 - val_accuracy: 0.4863\n",
            "Epoch 16/20\n",
            "205/205 [==============================] - 23s 113ms/step - loss: 0.9339 - accuracy: 0.6466 - val_loss: 1.4481 - val_accuracy: 0.4652\n",
            "Epoch 17/20\n",
            "205/205 [==============================] - 24s 117ms/step - loss: 0.8728 - accuracy: 0.6796 - val_loss: 1.5162 - val_accuracy: 0.4835\n",
            "Epoch 18/20\n",
            "205/205 [==============================] - 22s 109ms/step - loss: 0.8162 - accuracy: 0.6890 - val_loss: 1.5802 - val_accuracy: 0.4793\n",
            "Epoch 19/20\n",
            "205/205 [==============================] - 24s 118ms/step - loss: 0.7632 - accuracy: 0.7090 - val_loss: 1.5312 - val_accuracy: 0.4807\n",
            "Epoch 20/20\n",
            "205/205 [==============================] - 22s 108ms/step - loss: 0.7210 - accuracy: 0.7271 - val_loss: 1.5853 - val_accuracy: 0.4800\n",
            "45/45 [==============================] - 1s 27ms/step - loss: 1.5853 - accuracy: 0.4800\n",
            "Test Loss: 1.585333228111267\n",
            "Test Accuracy: 0.47997188568115234\n"
          ]
        }
      ]
    },
    {
      "cell_type": "code",
      "source": [],
      "metadata": {
        "id": "Wcwkv37zfZ8T"
      },
      "execution_count": null,
      "outputs": []
    },
    {
      "cell_type": "code",
      "source": [
        "from tensorflow.keras.layers import Input, GlobalAveragePooling2D, Dense\n",
        "from tensorflow.keras.models import Model\n",
        "from tensorflow.keras.optimizers import Adam\n",
        "from tensorflow.keras.preprocessing.image import ImageDataGenerator\n",
        "from tensorflow.keras.applications import EfficientNetB0\n",
        "from sklearn.metrics import classification_report"
      ],
      "metadata": {
        "id": "QVxAjsYDg4A4"
      },
      "execution_count": 8,
      "outputs": []
    },
    {
      "cell_type": "code",
      "source": [
        "# Train the model\n",
        "batch_size = 40\n",
        "epochs = 20\n",
        "\n",
        "history = gcn_model.fit(X_train_normalized, y_train_onehot,\n",
        "                        batch_size=batch_size,\n",
        "                        epochs=epochs,\n",
        "                        validation_data=(X_test_normalized, y_test_onehot))\n",
        "\n",
        "# Evaluate the model on the testing data\n",
        "loss, accuracy = gcn_model.evaluate(X_test_normalized, y_test_onehot)\n",
        "print(\"Test Loss:\", loss)\n",
        "print(\"Test Accuracy:\", accuracy)\n",
        "\n"
      ],
      "metadata": {
        "colab": {
          "base_uri": "https://localhost:8080/",
          "height": 942
        },
        "outputId": "28b5f8ff-b7a2-4d31-bf53-b5a307e01127",
        "id": "5wv4z43yg4ax"
      },
      "execution_count": 14,
      "outputs": [
        {
          "output_type": "stream",
          "name": "stdout",
          "text": [
            "Epoch 1/20\n",
            "164/164 [==============================] - 23s 138ms/step - loss: 0.6355 - accuracy: 0.7665 - val_loss: 1.7609 - val_accuracy: 0.4793\n",
            "Epoch 2/20\n",
            "164/164 [==============================] - 24s 145ms/step - loss: 0.6036 - accuracy: 0.7735 - val_loss: 1.7408 - val_accuracy: 0.4884\n",
            "Epoch 3/20\n",
            "164/164 [==============================] - 22s 133ms/step - loss: 0.5657 - accuracy: 0.7855 - val_loss: 1.8899 - val_accuracy: 0.4828\n",
            "Epoch 4/20\n",
            "164/164 [==============================] - 24s 147ms/step - loss: 0.5336 - accuracy: 0.7972 - val_loss: 1.8890 - val_accuracy: 0.4807\n",
            "Epoch 5/20\n",
            "164/164 [==============================] - 23s 138ms/step - loss: 0.4979 - accuracy: 0.8135 - val_loss: 1.9791 - val_accuracy: 0.4779\n",
            "Epoch 6/20\n",
            "164/164 [==============================] - 24s 146ms/step - loss: 0.4581 - accuracy: 0.8265 - val_loss: 2.0372 - val_accuracy: 0.4736\n",
            "Epoch 7/20\n",
            "164/164 [==============================] - 24s 144ms/step - loss: 0.4457 - accuracy: 0.8314 - val_loss: 2.1814 - val_accuracy: 0.4694\n",
            "Epoch 8/20\n",
            "164/164 [==============================] - 23s 138ms/step - loss: 0.4332 - accuracy: 0.8294 - val_loss: 2.1214 - val_accuracy: 0.4736\n",
            "Epoch 9/20\n",
            "164/164 [==============================] - 24s 145ms/step - loss: 0.4097 - accuracy: 0.8461 - val_loss: 2.2104 - val_accuracy: 0.4835\n",
            "Epoch 10/20\n",
            "164/164 [==============================] - 22s 136ms/step - loss: 0.3889 - accuracy: 0.8498 - val_loss: 2.3958 - val_accuracy: 0.4708\n",
            "Epoch 11/20\n",
            "164/164 [==============================] - 24s 145ms/step - loss: 0.3659 - accuracy: 0.8642 - val_loss: 2.4813 - val_accuracy: 0.4666\n",
            "Epoch 12/20\n",
            "164/164 [==============================] - 23s 143ms/step - loss: 0.3537 - accuracy: 0.8619 - val_loss: 2.4463 - val_accuracy: 0.4652\n",
            "Epoch 13/20\n",
            "164/164 [==============================] - 22s 134ms/step - loss: 0.3263 - accuracy: 0.8769 - val_loss: 2.7671 - val_accuracy: 0.4765\n",
            "Epoch 14/20\n",
            "164/164 [==============================] - 24s 145ms/step - loss: 0.3230 - accuracy: 0.8801 - val_loss: 2.7374 - val_accuracy: 0.4673\n",
            "Epoch 15/20\n",
            "164/164 [==============================] - 22s 135ms/step - loss: 0.3080 - accuracy: 0.8847 - val_loss: 2.6600 - val_accuracy: 0.4610\n",
            "Epoch 16/20\n",
            "164/164 [==============================] - 24s 146ms/step - loss: 0.2925 - accuracy: 0.8905 - val_loss: 2.8350 - val_accuracy: 0.4645\n",
            "Epoch 17/20\n",
            "164/164 [==============================] - 24s 148ms/step - loss: 0.2936 - accuracy: 0.8879 - val_loss: 2.7739 - val_accuracy: 0.4673\n",
            "Epoch 18/20\n",
            "164/164 [==============================] - 22s 134ms/step - loss: 0.2838 - accuracy: 0.8953 - val_loss: 2.9540 - val_accuracy: 0.4779\n",
            "Epoch 19/20\n",
            "164/164 [==============================] - 24s 144ms/step - loss: 0.2745 - accuracy: 0.8949 - val_loss: 3.1563 - val_accuracy: 0.4547\n",
            "Epoch 20/20\n",
            "164/164 [==============================] - 22s 136ms/step - loss: 0.2575 - accuracy: 0.9034 - val_loss: 3.2233 - val_accuracy: 0.4772\n",
            "45/45 [==============================] - 1s 26ms/step - loss: 3.2233 - accuracy: 0.4772\n",
            "Test Loss: 3.2232537269592285\n",
            "Test Accuracy: 0.4771609306335449\n"
          ]
        },
        {
          "output_type": "error",
          "ename": "NameError",
          "evalue": "name 'y_true_labels' is not defined",
          "traceback": [
            "\u001b[0;31m---------------------------------------------------------------------------\u001b[0m",
            "\u001b[0;31mNameError\u001b[0m                                 Traceback (most recent call last)",
            "\u001b[0;32m<ipython-input-14-b85cb906d928>\u001b[0m in \u001b[0;36m<cell line: 16>\u001b[0;34m()\u001b[0m\n\u001b[1;32m     14\u001b[0m \u001b[0;34m\u001b[0m\u001b[0m\n\u001b[1;32m     15\u001b[0m \u001b[0;31m# Print classification report\u001b[0m\u001b[0;34m\u001b[0m\u001b[0;34m\u001b[0m\u001b[0m\n\u001b[0;32m---> 16\u001b[0;31m \u001b[0mprint\u001b[0m\u001b[0;34m(\u001b[0m\u001b[0mclassification_report\u001b[0m\u001b[0;34m(\u001b[0m\u001b[0my_true_labels\u001b[0m\u001b[0;34m,\u001b[0m \u001b[0my_pred_labels\u001b[0m\u001b[0;34m)\u001b[0m\u001b[0;34m)\u001b[0m\u001b[0;34m\u001b[0m\u001b[0;34m\u001b[0m\u001b[0m\n\u001b[0m",
            "\u001b[0;31mNameError\u001b[0m: name 'y_true_labels' is not defined"
          ]
        }
      ]
    },
    {
      "cell_type": "code",
      "source": [
        "from sklearn.metrics import classification_report\n",
        "y_true_labels = ['a', 'b', 'c', 'd','e','f','g','h']\n",
        "y_pred_labels = ['a', 'b', 'b', 'd','e','f','g','h']\n",
        "\n",
        "print(classification_report(y_true_labels, y_pred_labels))\n"
      ],
      "metadata": {
        "colab": {
          "base_uri": "https://localhost:8080/"
        },
        "id": "UnUxFNWQkT27",
        "outputId": "51327712-c714-4a90-dba9-49d50fb95822"
      },
      "execution_count": 19,
      "outputs": [
        {
          "output_type": "stream",
          "name": "stdout",
          "text": [
            "              precision    recall  f1-score   support\n",
            "\n",
            "           a       1.00      1.00      1.00         1\n",
            "           b       0.50      1.00      0.67         1\n",
            "           c       0.00      0.00      0.00         1\n",
            "           d       1.00      1.00      1.00         1\n",
            "           e       1.00      1.00      1.00         1\n",
            "           f       1.00      1.00      1.00         1\n",
            "           g       1.00      1.00      1.00         1\n",
            "           h       1.00      1.00      1.00         1\n",
            "\n",
            "    accuracy                           0.88         8\n",
            "   macro avg       0.81      0.88      0.83         8\n",
            "weighted avg       0.81      0.88      0.83         8\n",
            "\n"
          ]
        },
        {
          "output_type": "stream",
          "name": "stderr",
          "text": [
            "/usr/local/lib/python3.10/dist-packages/sklearn/metrics/_classification.py:1344: UndefinedMetricWarning: Precision and F-score are ill-defined and being set to 0.0 in labels with no predicted samples. Use `zero_division` parameter to control this behavior.\n",
            "  _warn_prf(average, modifier, msg_start, len(result))\n",
            "/usr/local/lib/python3.10/dist-packages/sklearn/metrics/_classification.py:1344: UndefinedMetricWarning: Precision and F-score are ill-defined and being set to 0.0 in labels with no predicted samples. Use `zero_division` parameter to control this behavior.\n",
            "  _warn_prf(average, modifier, msg_start, len(result))\n",
            "/usr/local/lib/python3.10/dist-packages/sklearn/metrics/_classification.py:1344: UndefinedMetricWarning: Precision and F-score are ill-defined and being set to 0.0 in labels with no predicted samples. Use `zero_division` parameter to control this behavior.\n",
            "  _warn_prf(average, modifier, msg_start, len(result))\n"
          ]
        }
      ]
    },
    {
      "cell_type": "code",
      "source": [
        "print(X_train.shape)"
      ],
      "metadata": {
        "colab": {
          "base_uri": "https://localhost:8080/"
        },
        "id": "9ZK76q7BkPde",
        "outputId": "1932d7a0-97e4-4f6f-de15-e04f7a857af6"
      },
      "execution_count": 9,
      "outputs": [
        {
          "output_type": "stream",
          "name": "stdout",
          "text": [
            "(6530, 48, 48)\n"
          ]
        }
      ]
    },
    {
      "cell_type": "code",
      "source": [
        "print(input_shape)"
      ],
      "metadata": {
        "colab": {
          "base_uri": "https://localhost:8080/"
        },
        "id": "Pm5hQvXdkToE",
        "outputId": "3dbaee9c-4bd3-4d33-967e-64d682236943"
      },
      "execution_count": 10,
      "outputs": [
        {
          "output_type": "stream",
          "name": "stdout",
          "text": [
            "(48, 48, 1)\n"
          ]
        }
      ]
    },
    {
      "cell_type": "code",
      "source": [
        "total_elements_X_train = X_train.size\n",
        "print(f\"Total elements in X_train: {total_elements_X_train}\")"
      ],
      "metadata": {
        "colab": {
          "base_uri": "https://localhost:8080/"
        },
        "id": "IZOT6FiokvwV",
        "outputId": "8ecb6eb0-9a8f-46eb-eb05-8807b2d0b612"
      },
      "execution_count": 11,
      "outputs": [
        {
          "output_type": "stream",
          "name": "stdout",
          "text": [
            "Total elements in X_train: 15045120\n"
          ]
        }
      ]
    },
    {
      "cell_type": "code",
      "source": [
        "total_elements_desired_shape = 2240 * 48 * 48 * 3\n",
        "print(f\"Total elements in desired shape: {total_elements_desired_shape}\")"
      ],
      "metadata": {
        "colab": {
          "base_uri": "https://localhost:8080/"
        },
        "id": "EpO3lxVckvkH",
        "outputId": "c4671146-9782-4a27-c86e-3cc37d9cdcd8"
      },
      "execution_count": 12,
      "outputs": [
        {
          "output_type": "stream",
          "name": "stdout",
          "text": [
            "Total elements in desired shape: 15482880\n"
          ]
        }
      ]
    },
    {
      "cell_type": "code",
      "source": [
        "if total_elements_X_train != total_elements_desired_shape:\n",
        "    print(\"Error: The total number of elements in X_train is not compatible with the desired shape.\")"
      ],
      "metadata": {
        "colab": {
          "base_uri": "https://localhost:8080/"
        },
        "id": "u0j0cyW8kvLp",
        "outputId": "ccfaf4dc-ed1d-4087-c42a-78d63cc3d87a"
      },
      "execution_count": 13,
      "outputs": [
        {
          "output_type": "stream",
          "name": "stdout",
          "text": [
            "Error: The total number of elements in X_train is not compatible with the desired shape.\n"
          ]
        }
      ]
    }
  ]
}